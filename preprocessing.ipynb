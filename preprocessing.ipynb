{
 "cells": [
  {
   "cell_type": "code",
   "execution_count": 29,
   "metadata": {},
   "outputs": [],
   "source": [
    "from nltk import tokenize\n",
    "import os\n",
    "import pandas as pd"
   ]
  },
  {
   "cell_type": "code",
   "execution_count": 60,
   "metadata": {},
   "outputs": [],
   "source": [
    "if __name__ == \"__main__\":\n",
    "    \n",
    "    rootDir = '/home/gayatri/Documents/NLP/corpus/Bohannon/'\n",
    "    # i = 0\n",
    "    fnames = []\n",
    "    f = open(\"corpus.cha\", \"w\")\n",
    "    for dirName, subdirList, fileList in os.walk(rootDir):\n",
    "#         print('Found directory: %s' % dirName)\n",
    "        for fname in fileList:\n",
    "#             print('\\t%s' % fname)\n",
    "            fnames.append(fname)\n",
    "            f.write(open(dirName+'/'+fname).read())\n",
    "#             words.append(set(open(dirName+'/'+fname).read()))  \n",
    "    #         i = i+1\n"
   ]
  },
  {
   "cell_type": "code",
   "execution_count": null,
   "metadata": {},
   "outputs": [],
   "source": []
  },
  {
   "cell_type": "code",
   "execution_count": 51,
   "metadata": {},
   "outputs": [
    {
     "data": {
      "text/plain": [
       "['noel.cha',\n",
       " 'tom.cha',\n",
       " 'bob.cha',\n",
       " 'john.cha',\n",
       " 'ruth.cha',\n",
       " 'lindsey.cha',\n",
       " 'angela.cha',\n",
       " 'debbie.cha',\n",
       " 'harvey.cha',\n",
       " 'stephani.cha',\n",
       " 'doug.cha',\n",
       " 'lauren.cha',\n",
       " 'dan.cha',\n",
       " 'claire.cha',\n",
       " 'jim.cha',\n",
       " 'kim.cha',\n",
       " 'elliott.cha']"
      ]
     },
     "execution_count": 51,
     "metadata": {},
     "output_type": "execute_result"
    }
   ],
   "source": [
    "def get_corpus:\n",
    "    \n",
    "    for tempfile in tempfiles:\n",
    "        \n",
    "\n",
    "\n",
    "\n",
    "\n",
    "# def get_corpus:    \n",
    "#     file_tuple = os.walk(\"/home/gayatri/Documents/NLP/corpus/Bohannon/\")\n",
    "# #     print(file_tuple)\n",
    "#     for file in enumerate(file_tuple):\n",
    "#         files = file[1][2]\n",
    "#         print(files)\n",
    "#     corpus = []\n",
    "#     for file in files:\n",
    "#         corpus.append(open(dirName+'/'+file).read()) "
   ]
  }
 ],
 "metadata": {
  "kernelspec": {
   "display_name": "Python 3",
   "language": "python",
   "name": "python3"
  },
  "language_info": {
   "codemirror_mode": {
    "name": "ipython",
    "version": 3
   },
   "file_extension": ".py",
   "mimetype": "text/x-python",
   "name": "python",
   "nbconvert_exporter": "python",
   "pygments_lexer": "ipython3",
   "version": "3.7.1"
  }
 },
 "nbformat": 4,
 "nbformat_minor": 2
}
