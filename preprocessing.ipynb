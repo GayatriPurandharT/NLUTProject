{
 "cells": [
  {
   "cell_type": "code",
   "execution_count": 69,
   "metadata": {},
   "outputs": [],
   "source": [
    "from nltk import tokenize\n",
    "import os\n",
    "import pandas as pd"
   ]
  },
  {
   "cell_type": "code",
   "execution_count": 61,
   "metadata": {},
   "outputs": [],
   "source": [
    "\n"
   ]
  },
  {
   "cell_type": "code",
   "execution_count": 70,
   "metadata": {},
   "outputs": [],
   "source": [
    "def get_corpus(rootDir):\n",
    "    \n",
    "        # i = 0\n",
    "        fnames = []\n",
    "        f = open(rootDir+'/'+\"corpus.cha\", \"w\")\n",
    "        for dirName, subdirList, fileList in os.walk(rootDir):\n",
    "    #         print('Found directory: %s' % dirName)\n",
    "            for fname in fileList:\n",
    "    #             print('\\t%s' % fname)\n",
    "                fnames.append(fname)\n",
    "                f.write(open(dirName+'/'+fname).read())\n",
    "    #             words.append(set(open(dirName+'/'+fname).read()))  \n",
    "        #         i = i+1"
   ]
  },
  {
   "cell_type": "code",
   "execution_count": 63,
   "metadata": {},
   "outputs": [],
   "source": [
    "\n",
    "# def get_corpus:    \n",
    "#     file_tuple = os.walk(\"/home/gayatri/Documents/NLP/corpus/Bohannon/\")\n",
    "# #     print(file_tuple)\n",
    "#     for file in enumerate(file_tuple):\n",
    "#         files = file[1][2]\n",
    "#         print(files)\n",
    "#     corpus = []\n",
    "#     for file in files:\n",
    "#         corpus.append(open(dirName+'/'+file).read()) "
   ]
  },
  {
   "cell_type": "code",
   "execution_count": 71,
   "metadata": {},
   "outputs": [],
   "source": [
    "if __name__ == \"__main__\":\n",
    "    \n",
    "    rootDir = '/home/gayatri/Documents/NLP/corpus/Bohannon/'\n",
    "    get_corpus(rootDir)"
   ]
  }
 ],
 "metadata": {
  "kernelspec": {
   "display_name": "Python 3",
   "language": "python",
   "name": "python3"
  },
  "language_info": {
   "codemirror_mode": {
    "name": "ipython",
    "version": 3
   },
   "file_extension": ".py",
   "mimetype": "text/x-python",
   "name": "python",
   "nbconvert_exporter": "python",
   "pygments_lexer": "ipython3",
   "version": "3.7.1"
  }
 },
 "nbformat": 4,
 "nbformat_minor": 2
}
