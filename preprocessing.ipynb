{
 "cells": [
  {
   "cell_type": "code",
   "execution_count": 69,
   "metadata": {},
   "outputs": [],
   "source": [
    "from nltk import tokenize\n",
    "import os\n",
    "import pandas as pd"
   ]
  },
  {
   "cell_type": "code",
   "execution_count": 61,
   "metadata": {},
   "outputs": [],
   "source": [
    "\n"
   ]
  },
  {
   "cell_type": "code",
   "execution_count": 75,
   "metadata": {},
   "outputs": [],
   "source": [
    "#append all .cha files and make one big corpus file\n",
    "def get_corpus(rootDir):\n",
    "    \n",
    "        # i = 0\n",
    "        fnames = []\n",
    "        f = open(rootDir+'/'+\"corpus.cha\", \"w\")\n",
    "        for dirName, subdirList, fileList in os.walk(rootDir):\n",
    "    #         print('Found directory: %s' % dirName)\n",
    "            for fname in fileList:\n",
    "#                 print('\\t%s' % fname)\n",
    "                fnames.append(fname)\n",
    "                f.write(open(dirName+'/'+fname).read())\n",
    "    #             words.append(set(open(dirName+'/'+fname).read()))  \n",
    "        #         i = i+1"
   ]
  },
  {
   "cell_type": "code",
   "execution_count": null,
   "metadata": {},
   "outputs": [],
   "source": [
    "def get_clild_lines:\n",
    "    #function to fetch lines of childern into a file- use re"
   ]
  },
  {
   "cell_type": "code",
   "execution_count": 76,
   "metadata": {
    "scrolled": true
   },
   "outputs": [],
   "source": [
    "if __name__ == \"__main__\":\n",
    "    \n",
    "    #directory for corpus\n",
    "    rootDir = '/home/gayatri/Documents/NLP/corpus/Bohannon/'\n",
    "    get_corpus(rootDir)"
   ]
  },
  {
   "cell_type": "code",
   "execution_count": null,
   "metadata": {},
   "outputs": [],
   "source": []
  }
 ],
 "metadata": {
  "kernelspec": {
   "display_name": "Python 3",
   "language": "python",
   "name": "python3"
  },
  "language_info": {
   "codemirror_mode": {
    "name": "ipython",
    "version": 3
   },
   "file_extension": ".py",
   "mimetype": "text/x-python",
   "name": "python",
   "nbconvert_exporter": "python",
   "pygments_lexer": "ipython3",
   "version": "3.7.1"
  }
 },
 "nbformat": 4,
 "nbformat_minor": 2
}
